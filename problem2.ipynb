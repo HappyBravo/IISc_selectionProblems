{
 "cells": [
  {
   "cell_type": "markdown",
   "metadata": {},
   "source": [
    "### Problem 2 : Data Engineering Challenge\n",
    "\n",
    "##### Description: \n",
    "You are provided with a zip file named data.zip, which contains a folder named BBC_articles. Inside this folder are text files named as \"articleID_category\", where \"articleID\" corresponds to the unique identifier of the article and \"category\" denotes the category of the article. Your task is to structure the data by creating a CSV file with appropriate columns. Then, you need to write code to read the CSV data, tokenize the text, and prepare the dataset to have numerical features using vectorization. Goal is to clean and prepare the dataset so that in can be trained using NLP-classification techniques.\n",
    "\n",
    "#### Task1 (Data Structuring):\n",
    "\n",
    "- Unzip the data.zip file to access the BBC_articles folder.\n",
    "- Inside the BBC_articles folder, each text file is named as \"articleID_category\", where \"articleID\" is a unique identifier and \"category\" is the category of the article.\n",
    "- Create a CSV file named bbc_articles.csv with the following columns:\n",
    "    - article_id: Unique identifier for each article.\n",
    "    - text: Text content of the article.\n",
    "    - category: Category of the article.\n",
    "\n",
    "#### Task 2 (Data Preprocessing for Model Training):\n",
    "\n",
    "- Read the bbc_articles.csv file into a DataFrame using Python.\n",
    "- Tokenize the text data using a suitable tokenizer (e.g., NLTK, SpaCy)(Even better if you perform custom tokenization.)\n",
    "- Perform any necessary preprocessing steps such as lowercasing, removing stopwords, punctuation, etc.\n",
    "- Make a new csv file with numerical features and given labels.\n",
    "- Note: Features are typically derived through text vectorization techniques such as:\n",
    "    - Bag-of-Words (BoW): Each feature represents the count or frequency of each word in the document.\n",
    "    - TF-IDF (Term Frequency-Inverse Document Frequency): Each feature represents the TF-IDF score of each word in the document.\n",
    "    - Word Embeddings: Each feature represents the vector representation of each word in the document (e.g., Word2Vec, GloVe).\n",
    "- You are free to choose how you vectorize to get the feature\n",
    "\n",
    "#### Submission Requirements:\n",
    "\n",
    "- Submit the structured CSV file bbc_articles.csv.\n",
    "- Submit final datset as a CSV file containing numerical features.\n",
    "> (name it as vectorized_dataset.csv).\n",
    "\n",
    "- Provide the Python code used to preprocess the data and vectorize ot for the text classification.\n",
    "- Include a brief report or documentation summarizing the preprocessing steps, and what methods you adopted for featurization.\n",
    "- Additional Notes:\n",
    "    - Ensure that your code is well-commented and follows best practices for readability and maintainability.\n",
    "    - Provide any necessary instructions or requirements for running your code, such as package dependencies or environment setup."
   ]
  },
  {
   "cell_type": "code",
   "execution_count": null,
   "metadata": {},
   "outputs": [],
   "source": []
  },
  {
   "cell_type": "markdown",
   "metadata": {},
   "source": [
    "# IMPORT"
   ]
  },
  {
   "cell_type": "code",
   "execution_count": 2,
   "metadata": {},
   "outputs": [],
   "source": [
    "import os, csv, json\n",
    "import pandas as pd\n",
    "import numpy as np\n",
    "from tqdm import tqdm"
   ]
  },
  {
   "cell_type": "markdown",
   "metadata": {},
   "source": [
    "# USEFUL FUNCTIONS"
   ]
  },
  {
   "cell_type": "code",
   "execution_count": 3,
   "metadata": {},
   "outputs": [],
   "source": [
    "def loadJSON(filepathh):\n",
    "    _dataa = {} \n",
    "    if os.path.exists(filepathh):\n",
    "        with open(filepathh, \"r\", encoding=\"utf-8\") as _f:\n",
    "            _dataa = json.load(_f)\n",
    "    else:\n",
    "        print(f\"{filepathh} does not exists...\\n\") \n",
    "    return _dataa \n",
    "\n",
    "def loadTXT(filepathh):\n",
    "    _dataa = \"\"\n",
    "    if os.path.exists(filepathh):\n",
    "        with open(filepathh, \"r\", encoding=\"utf-8\") as _f:\n",
    "            _dataa = _f.read()\n",
    "    else:\n",
    "        print(f\"{filepathh} does not exists...\\n\") \n",
    "    return _dataa \n",
    "\n",
    "def loadFILE(filepathh = \"\"):\n",
    "    if os.path.exists(filepathh):\n",
    "        if filepathh.endswith(\".txt\"):\n",
    "            return loadTXT(filepathh)\n",
    "        elif filepathh.endswith(\".json\"):\n",
    "            return loadJSON(filepathh)\n",
    "        else:\n",
    "            print(\"\\n- Invalid File format 😐 !!!\\n\")\n",
    "            return None\n",
    "    else:\n",
    "        print(f\"{filepathh} does not exists...\\n\") "
   ]
  },
  {
   "cell_type": "code",
   "execution_count": 4,
   "metadata": {},
   "outputs": [],
   "source": [
    "def convert_dict_to_csv(my_ds = {}, csv_file_path = \"./bbc_articles.csv\", verbose = False):\n",
    "    _choice = 1\n",
    "    if os.path.exists(csv_file_path):\n",
    "        print(f\"CSV file with filename - '{os.path.basename(csv_file_path)}' exists !!!\")\n",
    "        _choice = 0\n",
    "        _choice_str = input(\"Overwrite it ? (1/0)\").strip()\n",
    "        if _choice_str in \"10\" and len(_choice_str) == 1:\n",
    "            _choice = int(_choice_str)\n",
    "        \n",
    "    if _choice:\n",
    "        req_fieldnames = ['article_id', 'text', 'category']\n",
    "        \n",
    "        with open(csv_file_path, 'w', newline='', encoding='utf-8') as csvfile:\n",
    "            if verbose:\n",
    "                print(f\"CSV file with filename - '{os.path.basename(csv_file_path)}' created.\")\n",
    "                _count = 0\n",
    "                _max_count = len(my_ds)\n",
    "\n",
    "            writer = csv.DictWriter(csvfile, fieldnames=req_fieldnames)\n",
    "            \n",
    "            writer.writeheader()\n",
    "            \n",
    "            for _ , values in tqdm(my_ds.items()):\n",
    "                _article_id, _category, _text = values\n",
    "                writer.writerow({'article_id': _article_id, 'text': _text, 'category': _category})\n",
    "\n",
    "                # if verbose:\n",
    "                #     print(f\"{_count}/{_max_count} written ...\", end=\"\\r\")\n",
    "            \n",
    "        if verbose:\n",
    "            print(f\"CSV file with filename - '{os.path.basename(csv_file_path)}' written.\")\n",
    "            print(\"\\n\")\n",
    "        return 1\n",
    "    \n",
    "    if verbose:\n",
    "        print(f\"CSV file with filename - '{os.path.basename(csv_file_path)}' was not written.\")\n",
    "    \n",
    "    return 0\n"
   ]
  },
  {
   "cell_type": "markdown",
   "metadata": {},
   "source": [
    "# --- TASK 1 ---"
   ]
  },
  {
   "cell_type": "code",
   "execution_count": 5,
   "metadata": {},
   "outputs": [],
   "source": [
    "# DATA PATH\n",
    "BBC_data_folder = \"./selection-problems/data/data/BBC_articles/\""
   ]
  },
  {
   "cell_type": "code",
   "execution_count": 6,
   "metadata": {},
   "outputs": [
    {
     "data": {
      "text/plain": [
       "(1490,\n",
       " ['1003_entertainment.txt',\n",
       "  '1004_tech.txt',\n",
       "  '1005_entertainment.txt',\n",
       "  '1007_business.txt',\n",
       "  '1008_politics.txt'])"
      ]
     },
     "execution_count": 6,
     "metadata": {},
     "output_type": "execute_result"
    }
   ],
   "source": [
    "# LISTING FILES TO PROCESS\n",
    "id_category_files_list = [i for i in os.listdir(BBC_data_folder) if i.endswith('.txt')]\n",
    "len(id_category_files_list), id_category_files_list[:5]"
   ]
  },
  {
   "cell_type": "code",
   "execution_count": 7,
   "metadata": {},
   "outputs": [
    {
     "name": "stderr",
     "output_type": "stream",
     "text": [
      "id_category_files: 100%|██████████| 1490/1490 [00:00<00:00, 6817.72it/s]\n"
     ]
    },
    {
     "data": {
      "text/plain": [
       "(1490,\n",
       " [('1003_entertainment.txt',\n",
       "   ['1003',\n",
       "    'entertainment',\n",
       "    'jamelia s return to the top r&b star jamelia had three brit nominations to go with her triple triumph at last year s mobo awards.  the birmingham-born singer  full name jamelia davis  was signed to a record label at the age of 15 and released her first single so high at 18. she released four number ones from her 2000 album drama  including the top five hit money featuring the vocals of reggae artist beenie man. she racked up five mobo nominations in 2000  winning one for best video. but in the same year she also fell pregnant and decided to take a break from music to bring up her daughter teja  who was born in march 2001. while she originally planned to get back to work pretty swiftly after giving birth it was actually two years before she released another single. during her absence r&b music exploded and a whole host of female artists were on the scene  meaning jamelia had to once again prove herself. her comeback song bout featuring rah digga only just scrapped into the top 40.  it was her next single  superstar  that really put her back on the map as one of britain s most popular female r&b singers  holding her own in a music scene dominated by us artists such as beyonce and ashanti.  superstar was followed by thank you  winner of best single at the 2004 mobos  which reached number two in the uk charts. the autobiographical song  which deals with domestic abuse  hit number one in new zealand and australia. next came the song see it in a boy s eyes  which was especially written for her by coldplay s chris martin. his involvement with the song meant not only was it given massive publicity but it was also greeted favourably by a new audience who would not usually listen to r&b. she now combines singing with modelling and supporting charities including the nspcc and make trade fair. despite her huge success in recent years  jamelia remains down-to-earth about her fame and her chances of lasting in the fickle music business  partly due to motherhood.  when i first got into the industry  i d be away from home for months at a time. but now i have other things in my life. i still want to make it  but it s not the end of the world if i don t   commented jamelia.']),\n",
       "  ('1004_tech.txt',\n",
       "   ['1004',\n",
       "    'tech',\n",
       "    'microsoft releases bumper patches microsoft has warned pc users to update their systems with the latest security fixes for flaws in windows programs.  in its monthly security bulletin  it flagged up eight  critical  security holes which could leave pcs open to attack if left unpatched. the number of holes considered  critical  is more than usual. they affect windows programs  including internet explorer (ie)  media player and instant messaging. four other important fixes were also released. these were considered to be less critical  however. if not updated  either automatically or manually  pc users running the programs could be vulnerable to viruses or other malicious attacks designed to exploit the holes. many of the flaws could be used by virus writers to take over computers remotely  install programs  change  and delete or see data.  one of the critical patches microsoft has made available is an important one that fixes some ie flaws. stephen toulouse  a microsoft security manager  said the flaws were known about  and although the firm had not seen any attacks exploiting the flaw  he did not rule them out. often  when a critical flaw is announced  spates of viruses follow because home users and businesses leave the flaw unpatched. a further patch fixes a hole in media player  windows messenger and msn messenger which an attacker could use to take control of unprotected machines through .png files. microsoft announces any vulnerabilities in its software every month. the most important ones are those which are classed as  critical . its latest releases came the week that the company announced it was to buy security software maker sybari software as part of microsoft s plans to make its own security programs.']),\n",
       "  ('1005_entertainment.txt',\n",
       "   ['1005',\n",
       "    'entertainment',\n",
       "    'critics back aviator for oscars martin scorsese s the aviator will win best film at the oscars  according to the uk s leading movie critics.  but several of those surveyed by the bbc news website think the veteran film-maker will lose the best director prize to clint eastwood. most of the critics tipped jamie foxx and hilary swank to scoop best actor and actress for ray and million dollar baby respectively. the jury comprised experts and critics from the top uk film publications. the panel also revealed which nominees they would personally prefer to win.  all expect the aviator to win best film  but many think it will be a close race between scorsese s howard hughes biopic and eastwood s boxing drama million dollar baby. the other films nominated are wine comedy sideways  factual drama finding neverland  and ray charles biopic ray.   i m pretty sure this is the year of the aviator  though my own choice would be sideways   said the observer s philip french.  sideways should win but it doesn t have a hope   said jamie graham of total film  a position shared by film 2005 presenter jonathan ross.  the form going in to the oscars points to the aviator  but i liked million dollar baby more   said tim dams  news editor of trade weekly screen international.  five of the eight critics tipped scorsese to win best director  with mr dams  heat s charles gant and empire s angie errigo plumping for eastwood. sideway s alexander payne  ray s taylor hackford and british director mike leigh - nominated for period drama vera drake - are considered outsiders in this category.  up until recently i could have sworn scorsese would get it just for being scorsese   ms errigo told the bbc news website.  but i m beginning to think eastwood will get it.    i d be very happy for mike leigh to win  but i don t think he has any chance   said charles gant  film editor of heat. foxx s portrayal of ray charles has already seen him win prizes at the golden globes  baftas and screen actors guild awards. mr dams said this made him  out-and-out favourite  to be named best actor on oscar night.  everyone would be incredibly surprised if he didn t win   he said.  if you re a betting man  he s as close as you get to a certainty.   if paul giamatti was nominated for sideways it would be a different game   says total film s jamie graham.  but foxx will and should win.   with vera drake star imelda staunton nominated for best actress alongside kate winslet  britain has a good chance of victory - on paper. jonathan ross  for one  will be very happy if winslet wins for eternal sunshine of the spotless mind. but while wendy ide of the times still thinks staunton has a chance  heat s charles gant believes her bafta win will cut little ice with academy voters.  i d like staunton to win  but her chances are not that great   said mr gant  who predicted a second oscar for hilary swank.   i think swank will win   said mr french.  imelda has got as far as she s going to get playing that role.  staunton is also the personal choice of steven gaydos  executive editor of industry magazine variety. but while he tipped swank to win  he predicted it would be a close contest.  everything has the ability to flip by one vote and go the other way   he told the bbc news website.  there s not a sense that it s obvious how it s going to go.  meanwhile  thousands of people have voted in a bbc radio five live poll to find the best film never to have won a best picture oscar. the audience voted overwhelmingly for the shawshank redemption  the 1994 frank darabont tale of hope and humanity  which received 52% of the online votes and 68% of the text messages. the other two finalists  citizen kane and a matter of life and death split the remaining votes roughly equally. this year s academy awards will be shown in the uk by sky movies 1 at 0130 gmt on monday.  - tim dams  screen international: film - the aviator; director - clint eastwood; actor - jamie foxx; actress - hilary swank.  - angie errigo  empire: film - the aviator; director - clint eastwood; actor - jamie foxx; actress - hilary swank.  - philip french  the observer: film - the aviator; director - martin scorsese; actor - jamie foxx; actress - hilary swank.  - charles gant  heat: film - the aviator; director - clint eastwood; actor - jamie foxx; actress - hilary swank.  - steven gaydos  variety: film - the aviator; director - martin scorsese; actor - jamie foxx; actress - hilary swank.  - jamie graham  total film: film - the aviator; director - martin scorsese; actor - jamie foxx; actress - hilary swank.  - wendy ide  the times: film - the aviator; director - martin scorsese; actor - jamie foxx; actress - imelda staunton.  - jonathan ross  film 2005: film - the aviator; director - martin scorsese; actor - jamie foxx; actress - hilary swank.  - tim dams  screen international: film - million dollar baby; director - clint eastwood; actor - jamie foxx; actress - hilary swank.  - angie errigo  empire: film - the aviator; director - martin scorsese; actor - jamie foxx; actress - hilary swank.  - philip french  the observer: film - sideways; director - martin scorsese; actor - jamie foxx; actress - imelda staunton.  - charles gant  heat: film - sideways; director - mike leigh; actor - jamie foxx; actress - imelda staunton.  - steven gaydos  variety: film - million dollar baby; director - clint eastwood; actor - don cheadle; actress - imelda staunton.  - jamie graham  total film: film - sideways; director - alexander payne; actor - jamie foxx; actress - hilary swank.  - wendy ide  the times: film - sideways; director - alexander payne; actor - don cheadle; actress - imelda staunton.  - jonathan ross  film 2005: film - sideways; director - clint eastwood; actor - jamie foxx; actress - kate winslet.']),\n",
       "  ('1007_business.txt',\n",
       "   ['1007',\n",
       "    'business',\n",
       "    'winemaker rejects foster s offer australian winemaker southcorp has rejected a takeover offer worth 3.1bn australian dollars ($2.3bn; £1.8bn) from brewing giant foster s group.  southcorp  whose brands include penfolds  rosemount and lindemans  dismissed the offer as inadequate. the two companies held four days of talks after foster s bought an 18.8% stake in southcorp on 13 january. a merger would create a global player with worldwide annual sales of 39m cases and revenues of a$2.6bn.  southcorp said foster s a$4.17-a-share takeover proposal offered a  excellent strategic fit  but undervalued the company.  southcorp s board has informed foster s that it is not prepared to recommend the offer as it does not adequately reflect the strategic value of the company   said southcorp chairman brian finn.  southcorp said foster s takeover offer was  opportunistic . however  it said that the offer may represent an  opening bid   opening up the possibility of foster s returning with an improved offer.  foster s said a combination of the two companies would create a global player with an  unrivalled  collection of premium wine brands. despite being best known for brewing foster s lager  foster s is already one of australia s largest wine producers  owning the beringer and wolf blass brands among others.  the combination of foster s and southcorp will transform the global wine industry and significantly enhance australia s competitive position on the global stage   said trevor o hoy  foster s chief executive officer. foster s spent a$584m on buying an 18.8% stake in southcorp from the oatley family  which founded the rosemount estates business and later merged it into southcorp. shares in both companies were suspended while the two held talks about a deal. southcorp s shares rose 12% to a$4.76 on news of the offer but foster s shares fell 3.7% to a$5.44.']),\n",
       "  ('1008_politics.txt',\n",
       "   ['1008',\n",
       "    'politics',\n",
       "    'child access law shake-up planned parents who refuse to allow former partners contact with their children could be electronically tagged under plans being considered by ministers.  curfews and community service orders were other options which could be used if court orders to allow parental access were defied  lord falconer said. the constitutional affairs secretary outlined some of the plans on tuesday. he denied fathers  activists had forced the changes  telling the bbc  there is a recognition that something is wrong . between 15 000 and 20 000 couples go to court to resolve access disputes each year  although in nine out of 10 separations there is no court intervention.  lord falconer told bbc radio 4 s today programme he hoped voluntary mediation could help solve disputes before they reached court. but he opposed compulsory mediation  saying that it would lead to many people taking part with the wrong attitude. other plans include:  - parenting plans to give advice on access arrangements  based on real-life examples that have worked in the past   - extending in-court conciliation - more informal hearings before contested court cases   - better access to legal  emotional and practical advice by telephone and internet   - legal aid changes to give incentives for early resolution of disputes.  judges can already jail parents who breach contact orders but that was a  nuclear option  which was rarely used as it was not seen as being in the child s interests  a spokesman said. the aim of the new legislation was to provide a  medium range  of penalties  such as fines  community service orders  compulsory anger management or parenting classes or curfews.  failure to comply with these measures could result in offenders being electronically tagged. on the possibility of tagging uncooperative parents  lord falconer said:  tagging may be going too far  but let s have a debate about that.  full details of the new powers will not be revealed until a bill is published  in the next two weeks   a spokesman said.  the government s proposals have met with disapproval from fathers  rights groups. john ison  from the controversial group fathers 4 justice  said:  it is very disappointing. what we have got is a cynical case of recycling existing legislation.  jim parton  from families need fathers  said the new proposals  lacked compulsion .   we would like to see couples develop a plan and then have it as a source of a court order - then you know where you stand  you know what the minimum access is.  otherwise  you see people make agreements which then fall apart.  mr parton said he had been told by children s minister margaret hodge there was not enough time to pass the bill through parliament before the general election  which is likely to take place in may.  the conservatives have called for an equal split between parents on access to be made law. theresa may  shadow secretary for the family  told bbc radio 4 s today programme that the government s plans were  inadequate  and were  papering over the cracks of the current system . she said a conservative government would bring a  radical reform  of the family courts  as well as enforcing a  legal presumption of co-parenting and compulsory mediation .  we want to make courts the last resort  rather than the first resort   she added. the government says children cannot simply be divided up  like property  when a marriage collapses. the liberal democrats have argued for flexibility in deciding access rules  rather than having  rigid targets .'])])"
      ]
     },
     "execution_count": 7,
     "metadata": {},
     "output_type": "execute_result"
    }
   ],
   "source": [
    "# MAKING DATA STRUCTURE\n",
    "#     {\n",
    "#         filename1_id_category.txt : [article_id, categoty, text],\n",
    "#         filename2_id_category.txt : [article_id, categoty, text],\n",
    "#         .\n",
    "#         .\n",
    "#         .\n",
    "#     }\n",
    "\n",
    "data_struc_dict = {_ : _[:-4].split('_') for _ in id_category_files_list} \n",
    "list(data_struc_dict.items())[:5]\n",
    "\n",
    "[data_struc_dict[_id_category_file].append(loadFILE(BBC_data_folder+_id_category_file)) for _id_category_file in tqdm(id_category_files_list, desc=\"id_category_files\")]\n",
    "len(data_struc_dict.items()), list(data_struc_dict.items())[:5]\n"
   ]
  },
  {
   "cell_type": "code",
   "execution_count": 8,
   "metadata": {},
   "outputs": [],
   "source": [
    "# PATH OF CSV FILE TO MAKE\n",
    "csv_file_to_make_path = \"./bbc_articles.csv\"\n"
   ]
  },
  {
   "cell_type": "code",
   "execution_count": 9,
   "metadata": {},
   "outputs": [
    {
     "name": "stdout",
     "output_type": "stream",
     "text": [
      "CSV file with filename - 'bbc_articles.csv' exists !!!\n"
     ]
    }
   ],
   "source": [
    "# CALLING FUNCTION TO CONVERT OUR DATA STRUCTURE TO CSV FILE\n",
    "convert_dict_to_csv(data_struc_dict, \n",
    "                    csv_file_to_make_path, \n",
    "                    verbose=1)"
   ]
  },
  {
   "cell_type": "code",
   "execution_count": null,
   "metadata": {},
   "outputs": [],
   "source": []
  },
  {
   "cell_type": "code",
   "execution_count": null,
   "metadata": {},
   "outputs": [],
   "source": []
  }
 ],
 "metadata": {
  "kernelspec": {
   "display_name": "nineSemEnv",
   "language": "python",
   "name": "python3"
  },
  "language_info": {
   "codemirror_mode": {
    "name": "ipython",
    "version": 3
   },
   "file_extension": ".py",
   "mimetype": "text/x-python",
   "name": "python",
   "nbconvert_exporter": "python",
   "pygments_lexer": "ipython3",
   "version": "3.11.6"
  }
 },
 "nbformat": 4,
 "nbformat_minor": 2
}
